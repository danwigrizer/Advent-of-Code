{
 "cells": [
  {
   "cell_type": "code",
   "execution_count": 95,
   "metadata": {
    "pycharm": {
     "name": "#%%\n"
    }
   },
   "outputs": [
    {
     "name": "stdout",
     "output_type": "stream",
     "text": [
      "['ecl:gry pid:860033327 eyr:2020 hcl:#fffffd', 'byr:1937 iyr:2017 cid:147 hgt:183cm', '', 'iyr:2013 ecl:amb cid:350 eyr:2023 pid:028048884', 'hcl:#cfa07d byr:1929', '', 'hcl:#ae17e1 iyr:2013', 'eyr:2024', 'ecl:brn pid:760753108 byr:1931', 'hgt:179cm']\n",
      "ecl:gry pid:860033327 eyr:2020 hcl:#fffffd\n",
      "byr:1937 iyr:2017 cid:147 hgt:183cm\n",
      "\n",
      "iyr:2013 ecl:amb cid:350 eyr:2023 pid:028048884\n",
      "hcl:#cfa07d byr:1929\n",
      "\n",
      "hcl:#ae17e1 iyr:2013\n",
      "eyr:2024\n",
      "ecl:brn pid:760753108 byr:1931\n",
      "hgt:179cm\n"
     ]
    }
   ],
   "source": [
    "fin = open(\"AoC-04-Test-Input\", \"r\")\n",
    "lines = [line.strip() for line in fin.readlines()]\n",
    "ans = 0\n",
    "exps = [\"pid\", \"ecl\", \"hcl\", \"hgt\", \"eyr\", \"iyr\", \"byr\"]\n",
    "\n",
    "s = {}\n",
    "bounds = [(\"byr\", 1920, 2002), (\"iyr\", 2010, 2020), (\"eyr\", 2020, 2030)]\n",
    "print(lines)\n",
    "for line in lines:\n",
    "    print(line)"
   ]
  },
  {
   "cell_type": "code",
   "execution_count": 100,
   "metadata": {
    "pycharm": {
     "name": "#%%\n"
    }
   },
   "outputs": [],
   "source": [
    "    if not line:\n",
    "        print(line)"
   ]
  },
  {
   "cell_type": "code",
   "execution_count": 101,
   "metadata": {
    "pycharm": {
     "name": "#%%\n"
    }
   },
   "outputs": [
    {
     "name": "stdout",
     "output_type": "stream",
     "text": [
      "['pid', 'ecl', 'hcl', 'hgt', 'eyr', 'iyr', 'byr']\n"
     ]
    }
   ],
   "source": [
    "        if not all(x in s for x in exps):\n",
    "            print(exps)\n",
    "            valid = False"
   ]
  },
  {
   "cell_type": "code",
   "execution_count": 102,
   "metadata": {
    "pycharm": {
     "name": "#%%\n"
    }
   },
   "outputs": [
    {
     "name": "stdout",
     "output_type": "stream",
     "text": [
      "0\n"
     ]
    }
   ],
   "source": [
    "        # comment out the next if statement for part 1\n",
    "        # if valid:\n",
    "        #     for yr, lo, hi in bounds:\n",
    "        #         valid = valid and lo <= int(s[yr]) <= hi\n",
    "        #\n",
    "        #     if s[\"hgt\"].endswith(\"cm\"):\n",
    "        #         valid = valid and 150 <= int(s[\"hgt\"][:-2]) <= 193\n",
    "        #     else:\n",
    "        #         valid = valid and 59 <= int(s[\"hgt\"][:-2]) <= 76\n",
    "        #\n",
    "        #     valid = valid and s[\"hcl\"][0] == \"#\" and len(s[\"hcl\"]) == 7 and all(c in \"abcdef0123456789\" for c in s[\"hcl\"][1:])\n",
    "        #     valid = valid and s[\"ecl\"] in (\"amb\", \"blu\", \"brn\", \"gry\", \"grn\", \"hzl\", \"oth\")\n",
    "        #     valid = valid and len(s[\"pid\"]) == 9 and all(\"0\" <= c <= \"9\" for c in s[\"pid\"]):\n",
    "\n",
    "        ans += valid\n",
    "        print(ans)"
   ]
  },
  {
   "cell_type": "code",
   "execution_count": 103,
   "metadata": {
    "pycharm": {
     "name": "#%%\n"
    }
   },
   "outputs": [
    {
     "name": "stdout",
     "output_type": "stream",
     "text": [
      "{}\n"
     ]
    }
   ],
   "source": [
    "        s = {}\n",
    "        print(s)"
   ]
  },
  {
   "cell_type": "code",
   "execution_count": 104,
   "metadata": {
    "pycharm": {
     "name": "#%%\n"
    }
   },
   "outputs": [
    {
     "name": "stdout",
     "output_type": "stream",
     "text": [
      "hgt:179cm\n",
      "['hgt:179cm']\n"
     ]
    }
   ],
   "source": [
    "    print(line)\n",
    "    chunks = line.split()\n",
    "    print(chunks)"
   ]
  },
  {
   "cell_type": "code",
   "execution_count": 105,
   "metadata": {
    "pycharm": {
     "name": "#%%\n"
    }
   },
   "outputs": [
    {
     "name": "stdout",
     "output_type": "stream",
     "text": [
      "hgt:179cm\n"
     ]
    }
   ],
   "source": [
    "    for c in chunks:\n",
    "        print(c)"
   ]
  },
  {
   "cell_type": "code",
   "execution_count": 106,
   "metadata": {
    "pycharm": {
     "name": "#%%\n"
    }
   },
   "outputs": [
    {
     "name": "stdout",
     "output_type": "stream",
     "text": [
      "hgt 179cm\n"
     ]
    }
   ],
   "source": [
    "        k, v = c.split(\":\")\n",
    "        print(k,v)"
   ]
  },
  {
   "cell_type": "code",
   "execution_count": 107,
   "metadata": {
    "pycharm": {
     "name": "#%%\n"
    }
   },
   "outputs": [
    {
     "name": "stdout",
     "output_type": "stream",
     "text": [
      "179cm\n"
     ]
    }
   ],
   "source": [
    "        s[k] = v\n",
    "        print(s[k])"
   ]
  },
  {
   "cell_type": "code",
   "execution_count": 108,
   "metadata": {
    "pycharm": {
     "name": "#%%\n"
    }
   },
   "outputs": [
    {
     "name": "stdout",
     "output_type": "stream",
     "text": [
      "0\n"
     ]
    }
   ],
   "source": [
    "print(ans)"
   ]
  },
  {
   "cell_type": "code",
   "execution_count": null,
   "outputs": [],
   "source": [],
   "metadata": {
    "collapsed": false,
    "pycharm": {
     "name": "#%%\n"
    }
   }
  },
  {
   "cell_type": "code",
   "execution_count": 69,
   "metadata": {
    "pycharm": {
     "name": "#%%\n"
    }
   },
   "outputs": [],
   "source": []
  },
  {
   "cell_type": "code",
   "execution_count": null,
   "metadata": {},
   "outputs": [],
   "source": []
  }
 ],
 "metadata": {
  "kernelspec": {
   "display_name": "Python 3",
   "language": "python",
   "name": "python3"
  },
  "language_info": {
   "codemirror_mode": {
    "name": "ipython",
    "version": 3
   },
   "file_extension": ".py",
   "mimetype": "text/x-python",
   "name": "python",
   "nbconvert_exporter": "python",
   "pygments_lexer": "ipython3",
   "version": "3.8.0"
  }
 },
 "nbformat": 4,
 "nbformat_minor": 1
}